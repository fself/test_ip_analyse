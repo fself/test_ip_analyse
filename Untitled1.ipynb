{
 "cells": [
  {
   "cell_type": "code",
   "execution_count": 1,
   "metadata": {},
   "outputs": [],
   "source": [
    "import pandas as pd \n",
    "import re"
   ]
  },
  {
   "cell_type": "code",
   "execution_count": 2,
   "metadata": {},
   "outputs": [],
   "source": [
    "raw_data = pd.read_csv('test.csv', sep=';')"
   ]
  },
  {
   "cell_type": "code",
   "execution_count": 3,
   "metadata": {},
   "outputs": [
    {
     "data": {
      "text/html": [
       "<div>\n",
       "<style scoped>\n",
       "    .dataframe tbody tr th:only-of-type {\n",
       "        vertical-align: middle;\n",
       "    }\n",
       "\n",
       "    .dataframe tbody tr th {\n",
       "        vertical-align: top;\n",
       "    }\n",
       "\n",
       "    .dataframe thead th {\n",
       "        text-align: right;\n",
       "    }\n",
       "</style>\n",
       "<table border=\"1\" class=\"dataframe\">\n",
       "  <thead>\n",
       "    <tr style=\"text-align: right;\">\n",
       "      <th></th>\n",
       "      <th>device_id</th>\n",
       "      <th>login</th>\n",
       "      <th>ip</th>\n",
       "      <th>user_agent</th>\n",
       "    </tr>\n",
       "  </thead>\n",
       "  <tbody>\n",
       "    <tr>\n",
       "      <th>0</th>\n",
       "      <td>0a10a4e8-4ad5-44ae-9560-5265837fe1f4</td>\n",
       "      <td>d21e16e4f73eee03a4af84277fa2d2c7450842f6</td>\n",
       "      <td>['188.234.164.151']</td>\n",
       "      <td>Mozilla/5.0 (Windows NT 6.1, Win64, x64) Apple...</td>\n",
       "    </tr>\n",
       "    <tr>\n",
       "      <th>1</th>\n",
       "      <td>1a337b50-d8c7-49bd-8460-949f758f05ab</td>\n",
       "      <td>53e47e39ace11a4326d448b9707cf354488479ee</td>\n",
       "      <td>['188.234.164.151']</td>\n",
       "      <td>Mozilla/5.0 (Windows NT 10.0, Win64, x64) Appl...</td>\n",
       "    </tr>\n",
       "    <tr>\n",
       "      <th>2</th>\n",
       "      <td>1a337b50-d8c7-49bd-8460-949f758f05ab</td>\n",
       "      <td>429fbfbbf1149c5acc874e0d2d3d6192001ec337</td>\n",
       "      <td>['188.234.164.151']</td>\n",
       "      <td>Mozilla/5.0 (Windows NT 10.0, Win64, x64) Appl...</td>\n",
       "    </tr>\n",
       "    <tr>\n",
       "      <th>3</th>\n",
       "      <td>1a337b50-d8c7-49bd-8460-949f758f05ab</td>\n",
       "      <td>273e6429a6f100c3cd628f9381ddd1fce46eb922</td>\n",
       "      <td>['188.234.164.151']</td>\n",
       "      <td>Mozilla/5.0 (Windows NT 10.0, Win64, x64) Appl...</td>\n",
       "    </tr>\n",
       "    <tr>\n",
       "      <th>4</th>\n",
       "      <td>1a337b50-d8c7-49bd-8460-949f758f05ab</td>\n",
       "      <td>38709772baf01683ba70017ad40600f9ce399c56</td>\n",
       "      <td>['188.234.164.151']</td>\n",
       "      <td>Mozilla/5.0 (Windows NT 10.0, Win64, x64) Appl...</td>\n",
       "    </tr>\n",
       "  </tbody>\n",
       "</table>\n",
       "</div>"
      ],
      "text/plain": [
       "                              device_id  \\\n",
       "0  0a10a4e8-4ad5-44ae-9560-5265837fe1f4   \n",
       "1  1a337b50-d8c7-49bd-8460-949f758f05ab   \n",
       "2  1a337b50-d8c7-49bd-8460-949f758f05ab   \n",
       "3  1a337b50-d8c7-49bd-8460-949f758f05ab   \n",
       "4  1a337b50-d8c7-49bd-8460-949f758f05ab   \n",
       "\n",
       "                                      login                   ip  \\\n",
       "0  d21e16e4f73eee03a4af84277fa2d2c7450842f6  ['188.234.164.151']   \n",
       "1  53e47e39ace11a4326d448b9707cf354488479ee  ['188.234.164.151']   \n",
       "2  429fbfbbf1149c5acc874e0d2d3d6192001ec337  ['188.234.164.151']   \n",
       "3  273e6429a6f100c3cd628f9381ddd1fce46eb922  ['188.234.164.151']   \n",
       "4  38709772baf01683ba70017ad40600f9ce399c56  ['188.234.164.151']   \n",
       "\n",
       "                                          user_agent  \n",
       "0  Mozilla/5.0 (Windows NT 6.1, Win64, x64) Apple...  \n",
       "1  Mozilla/5.0 (Windows NT 10.0, Win64, x64) Appl...  \n",
       "2  Mozilla/5.0 (Windows NT 10.0, Win64, x64) Appl...  \n",
       "3  Mozilla/5.0 (Windows NT 10.0, Win64, x64) Appl...  \n",
       "4  Mozilla/5.0 (Windows NT 10.0, Win64, x64) Appl...  "
      ]
     },
     "execution_count": 3,
     "metadata": {},
     "output_type": "execute_result"
    }
   ],
   "source": [
    "raw_data.head()\n"
   ]
  },
  {
   "cell_type": "code",
   "execution_count": 4,
   "metadata": {},
   "outputs": [],
   "source": [
    "raw_data['ip'] = raw_data['ip'].apply(lambda x: re.findall( r'[0-9]+(?:\\.[0-9]+){3}', x))"
   ]
  },
  {
   "cell_type": "markdown",
   "metadata": {},
   "source": [
    "# Uniqueness of data¶"
   ]
  },
  {
   "cell_type": "code",
   "execution_count": 5,
   "metadata": {},
   "outputs": [],
   "source": [
    "uniq_devices = pd.unique(raw_data['device_id'])\n",
    "uniq_logins = pd.unique(raw_data['login'])\n",
    "uniq_user_agents = pd.unique(raw_data['user_agent'])\n",
    "uniq_ips = pd.unique(raw_data['ip'].sum())"
   ]
  },
  {
   "cell_type": "code",
   "execution_count": 6,
   "metadata": {},
   "outputs": [
    {
     "name": "stdout",
     "output_type": "stream",
     "text": [
      "Unique devices:  177\n",
      "Unique logins:  420\n",
      "Unique user_agents:  171\n",
      "Unique ips:  943\n"
     ]
    }
   ],
   "source": [
    "print(\"Unique devices: \", len(uniq_devices))\n",
    "print(\"Unique logins: \", len(uniq_logins))\n",
    "print(\"Unique user_agents: \", len(uniq_user_agents))\n",
    "print(\"Unique ips: \", len(uniq_ips))"
   ]
  },
  {
   "cell_type": "code",
   "execution_count": 7,
   "metadata": {},
   "outputs": [],
   "source": [
    "all_devices = raw_data['device_id']\n",
    "all_logins = raw_data['login']\n",
    "all_user_agents = raw_data['user_agent']\n",
    "all_ips = pd.Series(raw_data['ip'].sum())\n",
    "\n",
    "all_devices_counts = all_devices.value_counts()\n",
    "all_logins_counts = all_logins.value_counts()\n",
    "all_user_agents_counts = all_user_agents.value_counts() \n",
    "all_ips_counts = all_ips.value_counts()"
   ]
  },
  {
   "cell_type": "code",
   "execution_count": 15,
   "metadata": {},
   "outputs": [
    {
     "name": "stdout",
     "output_type": "stream",
     "text": [
      "The most common \n",
      "Device: c6680b54-a6d2-4534-8141-c6fc062a3a12\n",
      "Login:  ed9b3e652da241191a4d2f52d6c89d84295a49d3\n",
      "User_agent:  Mozilla/5.0 (Linux, Android 5.1, m2 Build/LMY47D, wv) AppleWebKit/537.36 (KHTML, like Gecko) Version/4.0 Chrome/44.0.2403.147 Mobile Safari/537.36\n",
      "Ip:  188.234.164.151\n"
     ]
    }
   ],
   "source": [
    "print(\"The most common \")\n",
    "print(\"Device:\", all_devices_counts.index[0])\n",
    "print(\"Login: \", all_logins_counts.index[0])\n",
    "print(\"User_agent: \", all_user_agents_counts.index[0])\n",
    "print(\"Ip: \", all_ips_counts.index[0])"
   ]
  },
  {
   "cell_type": "code",
   "execution_count": null,
   "metadata": {},
   "outputs": [],
   "source": [
    "print(\"The least common \")\n",
    "print(\"Device:\", list(all_devices_counts[all_devices_counts == 1].index))\n",
    "print(\"Login: \",list(all_logins_counts[all_logins_counts == 1].index))\n",
    "print(\"User_agent: \",list(all_user_agents_counts[all_user_agents_counts == 1].index))\n",
    "print(\"Ip: \", list(all_ips_counts[all_ips_counts == 1].index))"
   ]
  },
  {
   "cell_type": "markdown",
   "metadata": {},
   "source": [
    "# IP Adresses & User Agent"
   ]
  },
  {
   "cell_type": "code",
   "execution_count": 16,
   "metadata": {},
   "outputs": [],
   "source": [
    "import requests\n",
    "from netaddr import IPNetwork, IPAddress\n",
    "from ua_parser import user_agent_parser\n",
    "from ipwhois import IPWhois"
   ]
  },
  {
   "cell_type": "code",
   "execution_count": 17,
   "metadata": {},
   "outputs": [],
   "source": [
    "countries = []\n",
    "cities = []\n",
    "lats = []\n",
    "lons = []"
   ]
  },
  {
   "cell_type": "code",
   "execution_count": 18,
   "metadata": {},
   "outputs": [],
   "source": [
    "for ip in uniq_ips:\n",
    "    response = requests.get('http://api.sypexgeo.net/json/'+ str(ip))\n",
    "    if response.status_code == 200:\n",
    "        response = response.json()\n",
    "        countries.append(response['country']['name_en'])\n",
    "        cities.append(response['city']['name_en'])\n",
    "        lats.append(response['city']['lat'])\n",
    "        lons.append(response['city']['lon'])\n",
    "    else:\n",
    "        countries.append(None)\n",
    "        cities.append(None)\n",
    "        lats.append(None)\n",
    "        lons.append(None)"
   ]
  },
  {
   "cell_type": "code",
   "execution_count": 19,
   "metadata": {},
   "outputs": [],
   "source": [
    "networks = []\n",
    "network_names = []"
   ]
  },
  {
   "cell_type": "code",
   "execution_count": 20,
   "metadata": {},
   "outputs": [],
   "source": [
    "for ip in uniq_ips:\n",
    "    request = IPWhois(ip) \n",
    "    response = request.lookup_rdap()['network']\n",
    "    network_list = response['cidr'].split(',')\n",
    "    for nw in network_list:\n",
    "        nw = IPNetwork(nw)\n",
    "        if IPAddress(ip) in list(nw):\n",
    "            networks.append(nw)\n",
    "    network_names.append(response['name'])"
   ]
  },
  {
   "cell_type": "code",
   "execution_count": 21,
   "metadata": {},
   "outputs": [],
   "source": [
    "ips_info = pd.DataFrame({\n",
    "    'ip': uniq_ips, \n",
    "    'country' : countries,\n",
    "    'city' : cities, \n",
    "    'lat' : lats,\n",
    "    'lon' : lons,\n",
    "    'network': networks, \n",
    "    'network_name': network_names\n",
    "})"
   ]
  },
  {
   "cell_type": "code",
   "execution_count": 22,
   "metadata": {},
   "outputs": [
    {
     "data": {
      "text/html": [
       "<div>\n",
       "<style scoped>\n",
       "    .dataframe tbody tr th:only-of-type {\n",
       "        vertical-align: middle;\n",
       "    }\n",
       "\n",
       "    .dataframe tbody tr th {\n",
       "        vertical-align: top;\n",
       "    }\n",
       "\n",
       "    .dataframe thead th {\n",
       "        text-align: right;\n",
       "    }\n",
       "</style>\n",
       "<table border=\"1\" class=\"dataframe\">\n",
       "  <thead>\n",
       "    <tr style=\"text-align: right;\">\n",
       "      <th></th>\n",
       "      <th>ip</th>\n",
       "      <th>country</th>\n",
       "      <th>city</th>\n",
       "      <th>lat</th>\n",
       "      <th>lon</th>\n",
       "      <th>network</th>\n",
       "      <th>network_name</th>\n",
       "    </tr>\n",
       "  </thead>\n",
       "  <tbody>\n",
       "    <tr>\n",
       "      <th>0</th>\n",
       "      <td>188.234.164.151</td>\n",
       "      <td>Russia</td>\n",
       "      <td>Tomsk</td>\n",
       "      <td>56.49771</td>\n",
       "      <td>84.97437</td>\n",
       "      <td>(188.234.160.0, 188.234.160.1, 188.234.160.2, ...</td>\n",
       "      <td>ERTH-TOMSK-PPPOE-3-NET</td>\n",
       "    </tr>\n",
       "    <tr>\n",
       "      <th>1</th>\n",
       "      <td>93.91.166.42</td>\n",
       "      <td>Russia</td>\n",
       "      <td>Tomsk</td>\n",
       "      <td>56.49771</td>\n",
       "      <td>84.97437</td>\n",
       "      <td>(93.91.166.0, 93.91.166.1, 93.91.166.2, 93.91....</td>\n",
       "      <td>AVANTEL-TOMSK-NETWORK</td>\n",
       "    </tr>\n",
       "    <tr>\n",
       "      <th>2</th>\n",
       "      <td>194.85.126.48</td>\n",
       "      <td>Russia</td>\n",
       "      <td>Novosibirsk</td>\n",
       "      <td>55.04150</td>\n",
       "      <td>82.93460</td>\n",
       "      <td>(194.85.126.0, 194.85.126.1, 194.85.126.2, 194...</td>\n",
       "      <td>CFT</td>\n",
       "    </tr>\n",
       "    <tr>\n",
       "      <th>3</th>\n",
       "      <td>31.173.243.68</td>\n",
       "      <td>Russia</td>\n",
       "      <td>Novosibirsk</td>\n",
       "      <td>55.04150</td>\n",
       "      <td>82.93460</td>\n",
       "      <td>(31.173.242.0, 31.173.242.1, 31.173.242.2, 31....</td>\n",
       "      <td>MF-SF-AS31205-MOB-PLAN</td>\n",
       "    </tr>\n",
       "    <tr>\n",
       "      <th>4</th>\n",
       "      <td>31.173.240.37</td>\n",
       "      <td>Russia</td>\n",
       "      <td>Novosibirsk</td>\n",
       "      <td>55.04150</td>\n",
       "      <td>82.93460</td>\n",
       "      <td>(31.173.240.0, 31.173.240.1, 31.173.240.2, 31....</td>\n",
       "      <td>MF-SF-AS31205-MOB-TOL</td>\n",
       "    </tr>\n",
       "  </tbody>\n",
       "</table>\n",
       "</div>"
      ],
      "text/plain": [
       "                ip country         city       lat       lon  \\\n",
       "0  188.234.164.151  Russia        Tomsk  56.49771  84.97437   \n",
       "1     93.91.166.42  Russia        Tomsk  56.49771  84.97437   \n",
       "2    194.85.126.48  Russia  Novosibirsk  55.04150  82.93460   \n",
       "3    31.173.243.68  Russia  Novosibirsk  55.04150  82.93460   \n",
       "4    31.173.240.37  Russia  Novosibirsk  55.04150  82.93460   \n",
       "\n",
       "                                             network            network_name  \n",
       "0  (188.234.160.0, 188.234.160.1, 188.234.160.2, ...  ERTH-TOMSK-PPPOE-3-NET  \n",
       "1  (93.91.166.0, 93.91.166.1, 93.91.166.2, 93.91....   AVANTEL-TOMSK-NETWORK  \n",
       "2  (194.85.126.0, 194.85.126.1, 194.85.126.2, 194...                     CFT  \n",
       "3  (31.173.242.0, 31.173.242.1, 31.173.242.2, 31....  MF-SF-AS31205-MOB-PLAN  \n",
       "4  (31.173.240.0, 31.173.240.1, 31.173.240.2, 31....   MF-SF-AS31205-MOB-TOL  "
      ]
     },
     "execution_count": 22,
     "metadata": {},
     "output_type": "execute_result"
    }
   ],
   "source": [
    "ips_info.head()"
   ]
  },
  {
   "cell_type": "code",
   "execution_count": 23,
   "metadata": {},
   "outputs": [
    {
     "data": {
      "text/plain": [
       "array(['Tomsk', 'Novosibirsk', 'Veliky Novgorod', 'Irkutsk',\n",
       "       'Vladivostok', 'Moscow', 'Samara', 'Tolyatti', 'Saint Petersburg',\n",
       "       'Barnaul', 'Berezniki', 'Nicosia', 'Beloretsk', 'Ufa', 'Perm',\n",
       "       'Sestroretsk', 'Vologda', 'Sochi', 'Antalya', 'Magnitogorsk',\n",
       "       'Kurgan', 'Chelyabinsk', 'Miass', 'Yemanzhelinsk', 'Ulan-Ude', '',\n",
       "       'Yakutsk', 'Khabarovsk', 'Rostov-on-Don', 'Shakhty', 'Arkhangelsk',\n",
       "       'Krasnodar', 'Cherepovets', \"Astrakhan'\", 'Yekaterinburg',\n",
       "       'Surgut', 'Kogalym', 'Novorossiysk', 'Tver', 'Saratov', 'Kazan’',\n",
       "       'Nizhnekamsk', 'Naberezhnye Chelny', 'Syktyvkar', 'Gatchina',\n",
       "       'Vladimir', 'Elista', 'Taganrog', 'Murmansk', 'Udomlya',\n",
       "       'Bezhetsk', 'Vyshniy Volochëk', 'Volgograd', 'Kirov',\n",
       "       'Nizhny Novgorod', 'Lobnya', 'Saransk', 'Kemerovo', 'Angarsk',\n",
       "       'Linköping', 'Shchelkovo', \"Engel's\"], dtype=object)"
      ]
     },
     "execution_count": 23,
     "metadata": {},
     "output_type": "execute_result"
    }
   ],
   "source": [
    "pd.unique(ips_info['city'])"
   ]
  },
  {
   "cell_type": "code",
   "execution_count": 24,
   "metadata": {},
   "outputs": [],
   "source": [
    "os_family = []\n",
    "browsers = []\n",
    "mobile = []\n",
    "os_version = []\n",
    "browsers_version = []\n",
    "device_ids = []\n",
    "logins = []\n",
    "ip_session = []"
   ]
  },
  {
   "cell_type": "code",
   "execution_count": 25,
   "metadata": {},
   "outputs": [],
   "source": [
    "for ip in ips_info['ip']:\n",
    "    i = 0\n",
    "    for raw_ip in raw_data['ip']:\n",
    "        if ip in raw_ip:\n",
    "            ua_string = raw_data['user_agent'][i]\n",
    "            d_id = raw_data['device_id'][i]\n",
    "            login = raw_data['login'][i]\n",
    "            device_ids.append(d_id)\n",
    "            logins.append(login)\n",
    "            ip_session.append(ip)\n",
    "            parsed_os = user_agent_parser.ParseOS(ua_string)\n",
    "            if parsed_os['family'] == 'Android' or parsed_os['family'] == 'iOS':\n",
    "                mobile.append(True)\n",
    "            else: \n",
    "                mobile.append(False)\n",
    "            os_family.append(parsed_os['family'])\n",
    "            str_os = \"\"\n",
    "            if parsed_os['major'] is not None:\n",
    "                str_os += parsed_os['major']\n",
    "            if parsed_os['minor'] is not None:\n",
    "                str_os += \".\" + parsed_os['minor']\n",
    "            if parsed_os['patch'] is not None:\n",
    "                str_os += \".\" + parsed_os['patch']\n",
    "            os_version.append(str_os)\n",
    "            parsed_user_agent = user_agent_parser.ParseUserAgent(ua_string)\n",
    "            browsers.append(parsed_user_agent['family'])\n",
    "            str_browser = \"\"\n",
    "            if parsed_user_agent['major'] is not None:\n",
    "                str_browser += \" \" + parsed_user_agent['major']\n",
    "            if parsed_user_agent['minor'] is not None:\n",
    "                str_browser += \".\" + parsed_user_agent['minor']\n",
    "            if parsed_user_agent['patch'] is not None:\n",
    "                str_browser += \".\" + parsed_user_agent['patch']\n",
    "            browsers_version.append(str_browser)\n",
    "        i += 1"
   ]
  },
  {
   "cell_type": "code",
   "execution_count": 26,
   "metadata": {},
   "outputs": [],
   "source": [
    "session_info = pd.DataFrame({\n",
    "    'ip': ip_session,\n",
    "    'os_family': os_family,\n",
    "    'os_version': os_version,\n",
    "    'browser': browsers, \n",
    "    'browser_version': browsers_version,\n",
    "    'mobile': mobile,  \n",
    "    'device_id': device_ids, \n",
    "    'login': logins\n",
    "})"
   ]
  },
  {
   "cell_type": "code",
   "execution_count": 27,
   "metadata": {},
   "outputs": [],
   "source": [
    "session_info = session_info.drop_duplicates()"
   ]
  },
  {
   "cell_type": "code",
   "execution_count": 28,
   "metadata": {},
   "outputs": [
    {
     "data": {
      "text/html": [
       "<div>\n",
       "<style scoped>\n",
       "    .dataframe tbody tr th:only-of-type {\n",
       "        vertical-align: middle;\n",
       "    }\n",
       "\n",
       "    .dataframe tbody tr th {\n",
       "        vertical-align: top;\n",
       "    }\n",
       "\n",
       "    .dataframe thead th {\n",
       "        text-align: right;\n",
       "    }\n",
       "</style>\n",
       "<table border=\"1\" class=\"dataframe\">\n",
       "  <thead>\n",
       "    <tr style=\"text-align: right;\">\n",
       "      <th></th>\n",
       "      <th>ip</th>\n",
       "      <th>os_family</th>\n",
       "      <th>os_version</th>\n",
       "      <th>browser</th>\n",
       "      <th>browser_version</th>\n",
       "      <th>mobile</th>\n",
       "      <th>device_id</th>\n",
       "      <th>login</th>\n",
       "    </tr>\n",
       "  </thead>\n",
       "  <tbody>\n",
       "    <tr>\n",
       "      <th>0</th>\n",
       "      <td>188.234.164.151</td>\n",
       "      <td>Windows</td>\n",
       "      <td>7</td>\n",
       "      <td>Chrome</td>\n",
       "      <td>66.0.3359</td>\n",
       "      <td>False</td>\n",
       "      <td>0a10a4e8-4ad5-44ae-9560-5265837fe1f4</td>\n",
       "      <td>d21e16e4f73eee03a4af84277fa2d2c7450842f6</td>\n",
       "    </tr>\n",
       "    <tr>\n",
       "      <th>1</th>\n",
       "      <td>188.234.164.151</td>\n",
       "      <td>Windows</td>\n",
       "      <td>10</td>\n",
       "      <td>Chrome</td>\n",
       "      <td>68.0.3440</td>\n",
       "      <td>False</td>\n",
       "      <td>1a337b50-d8c7-49bd-8460-949f758f05ab</td>\n",
       "      <td>53e47e39ace11a4326d448b9707cf354488479ee</td>\n",
       "    </tr>\n",
       "    <tr>\n",
       "      <th>2</th>\n",
       "      <td>188.234.164.151</td>\n",
       "      <td>Windows</td>\n",
       "      <td>10</td>\n",
       "      <td>Chrome</td>\n",
       "      <td>68.0.3440</td>\n",
       "      <td>False</td>\n",
       "      <td>1a337b50-d8c7-49bd-8460-949f758f05ab</td>\n",
       "      <td>429fbfbbf1149c5acc874e0d2d3d6192001ec337</td>\n",
       "    </tr>\n",
       "    <tr>\n",
       "      <th>3</th>\n",
       "      <td>188.234.164.151</td>\n",
       "      <td>Windows</td>\n",
       "      <td>10</td>\n",
       "      <td>Chrome</td>\n",
       "      <td>68.0.3440</td>\n",
       "      <td>False</td>\n",
       "      <td>1a337b50-d8c7-49bd-8460-949f758f05ab</td>\n",
       "      <td>273e6429a6f100c3cd628f9381ddd1fce46eb922</td>\n",
       "    </tr>\n",
       "    <tr>\n",
       "      <th>4</th>\n",
       "      <td>188.234.164.151</td>\n",
       "      <td>Windows</td>\n",
       "      <td>10</td>\n",
       "      <td>Chrome</td>\n",
       "      <td>68.0.3440</td>\n",
       "      <td>False</td>\n",
       "      <td>1a337b50-d8c7-49bd-8460-949f758f05ab</td>\n",
       "      <td>38709772baf01683ba70017ad40600f9ce399c56</td>\n",
       "    </tr>\n",
       "  </tbody>\n",
       "</table>\n",
       "</div>"
      ],
      "text/plain": [
       "                ip os_family os_version browser browser_version  mobile  \\\n",
       "0  188.234.164.151   Windows          7  Chrome       66.0.3359   False   \n",
       "1  188.234.164.151   Windows         10  Chrome       68.0.3440   False   \n",
       "2  188.234.164.151   Windows         10  Chrome       68.0.3440   False   \n",
       "3  188.234.164.151   Windows         10  Chrome       68.0.3440   False   \n",
       "4  188.234.164.151   Windows         10  Chrome       68.0.3440   False   \n",
       "\n",
       "                              device_id  \\\n",
       "0  0a10a4e8-4ad5-44ae-9560-5265837fe1f4   \n",
       "1  1a337b50-d8c7-49bd-8460-949f758f05ab   \n",
       "2  1a337b50-d8c7-49bd-8460-949f758f05ab   \n",
       "3  1a337b50-d8c7-49bd-8460-949f758f05ab   \n",
       "4  1a337b50-d8c7-49bd-8460-949f758f05ab   \n",
       "\n",
       "                                      login  \n",
       "0  d21e16e4f73eee03a4af84277fa2d2c7450842f6  \n",
       "1  53e47e39ace11a4326d448b9707cf354488479ee  \n",
       "2  429fbfbbf1149c5acc874e0d2d3d6192001ec337  \n",
       "3  273e6429a6f100c3cd628f9381ddd1fce46eb922  \n",
       "4  38709772baf01683ba70017ad40600f9ce399c56  "
      ]
     },
     "execution_count": 28,
     "metadata": {},
     "output_type": "execute_result"
    }
   ],
   "source": [
    "session_info.head()"
   ]
  },
  {
   "cell_type": "code",
   "execution_count": 29,
   "metadata": {},
   "outputs": [],
   "source": [
    "all_info = pd.merge(ips_info, session_info, on='ip')"
   ]
  },
  {
   "cell_type": "code",
   "execution_count": 30,
   "metadata": {},
   "outputs": [
    {
     "data": {
      "text/html": [
       "<div>\n",
       "<style scoped>\n",
       "    .dataframe tbody tr th:only-of-type {\n",
       "        vertical-align: middle;\n",
       "    }\n",
       "\n",
       "    .dataframe tbody tr th {\n",
       "        vertical-align: top;\n",
       "    }\n",
       "\n",
       "    .dataframe thead th {\n",
       "        text-align: right;\n",
       "    }\n",
       "</style>\n",
       "<table border=\"1\" class=\"dataframe\">\n",
       "  <thead>\n",
       "    <tr style=\"text-align: right;\">\n",
       "      <th></th>\n",
       "      <th>ip</th>\n",
       "      <th>country</th>\n",
       "      <th>city</th>\n",
       "      <th>lat</th>\n",
       "      <th>lon</th>\n",
       "      <th>network</th>\n",
       "      <th>network_name</th>\n",
       "      <th>os_family</th>\n",
       "      <th>os_version</th>\n",
       "      <th>browser</th>\n",
       "      <th>browser_version</th>\n",
       "      <th>mobile</th>\n",
       "      <th>device_id</th>\n",
       "      <th>login</th>\n",
       "    </tr>\n",
       "  </thead>\n",
       "  <tbody>\n",
       "    <tr>\n",
       "      <th>0</th>\n",
       "      <td>188.234.164.151</td>\n",
       "      <td>Russia</td>\n",
       "      <td>Tomsk</td>\n",
       "      <td>56.49771</td>\n",
       "      <td>84.97437</td>\n",
       "      <td>(188.234.160.0, 188.234.160.1, 188.234.160.2, ...</td>\n",
       "      <td>ERTH-TOMSK-PPPOE-3-NET</td>\n",
       "      <td>Windows</td>\n",
       "      <td>7</td>\n",
       "      <td>Chrome</td>\n",
       "      <td>66.0.3359</td>\n",
       "      <td>False</td>\n",
       "      <td>0a10a4e8-4ad5-44ae-9560-5265837fe1f4</td>\n",
       "      <td>d21e16e4f73eee03a4af84277fa2d2c7450842f6</td>\n",
       "    </tr>\n",
       "    <tr>\n",
       "      <th>1</th>\n",
       "      <td>188.234.164.151</td>\n",
       "      <td>Russia</td>\n",
       "      <td>Tomsk</td>\n",
       "      <td>56.49771</td>\n",
       "      <td>84.97437</td>\n",
       "      <td>(188.234.160.0, 188.234.160.1, 188.234.160.2, ...</td>\n",
       "      <td>ERTH-TOMSK-PPPOE-3-NET</td>\n",
       "      <td>Windows</td>\n",
       "      <td>10</td>\n",
       "      <td>Chrome</td>\n",
       "      <td>68.0.3440</td>\n",
       "      <td>False</td>\n",
       "      <td>1a337b50-d8c7-49bd-8460-949f758f05ab</td>\n",
       "      <td>53e47e39ace11a4326d448b9707cf354488479ee</td>\n",
       "    </tr>\n",
       "    <tr>\n",
       "      <th>2</th>\n",
       "      <td>188.234.164.151</td>\n",
       "      <td>Russia</td>\n",
       "      <td>Tomsk</td>\n",
       "      <td>56.49771</td>\n",
       "      <td>84.97437</td>\n",
       "      <td>(188.234.160.0, 188.234.160.1, 188.234.160.2, ...</td>\n",
       "      <td>ERTH-TOMSK-PPPOE-3-NET</td>\n",
       "      <td>Windows</td>\n",
       "      <td>10</td>\n",
       "      <td>Chrome</td>\n",
       "      <td>68.0.3440</td>\n",
       "      <td>False</td>\n",
       "      <td>1a337b50-d8c7-49bd-8460-949f758f05ab</td>\n",
       "      <td>429fbfbbf1149c5acc874e0d2d3d6192001ec337</td>\n",
       "    </tr>\n",
       "    <tr>\n",
       "      <th>3</th>\n",
       "      <td>188.234.164.151</td>\n",
       "      <td>Russia</td>\n",
       "      <td>Tomsk</td>\n",
       "      <td>56.49771</td>\n",
       "      <td>84.97437</td>\n",
       "      <td>(188.234.160.0, 188.234.160.1, 188.234.160.2, ...</td>\n",
       "      <td>ERTH-TOMSK-PPPOE-3-NET</td>\n",
       "      <td>Windows</td>\n",
       "      <td>10</td>\n",
       "      <td>Chrome</td>\n",
       "      <td>68.0.3440</td>\n",
       "      <td>False</td>\n",
       "      <td>1a337b50-d8c7-49bd-8460-949f758f05ab</td>\n",
       "      <td>273e6429a6f100c3cd628f9381ddd1fce46eb922</td>\n",
       "    </tr>\n",
       "    <tr>\n",
       "      <th>4</th>\n",
       "      <td>188.234.164.151</td>\n",
       "      <td>Russia</td>\n",
       "      <td>Tomsk</td>\n",
       "      <td>56.49771</td>\n",
       "      <td>84.97437</td>\n",
       "      <td>(188.234.160.0, 188.234.160.1, 188.234.160.2, ...</td>\n",
       "      <td>ERTH-TOMSK-PPPOE-3-NET</td>\n",
       "      <td>Windows</td>\n",
       "      <td>10</td>\n",
       "      <td>Chrome</td>\n",
       "      <td>68.0.3440</td>\n",
       "      <td>False</td>\n",
       "      <td>1a337b50-d8c7-49bd-8460-949f758f05ab</td>\n",
       "      <td>38709772baf01683ba70017ad40600f9ce399c56</td>\n",
       "    </tr>\n",
       "  </tbody>\n",
       "</table>\n",
       "</div>"
      ],
      "text/plain": [
       "                ip country   city       lat       lon  \\\n",
       "0  188.234.164.151  Russia  Tomsk  56.49771  84.97437   \n",
       "1  188.234.164.151  Russia  Tomsk  56.49771  84.97437   \n",
       "2  188.234.164.151  Russia  Tomsk  56.49771  84.97437   \n",
       "3  188.234.164.151  Russia  Tomsk  56.49771  84.97437   \n",
       "4  188.234.164.151  Russia  Tomsk  56.49771  84.97437   \n",
       "\n",
       "                                             network            network_name  \\\n",
       "0  (188.234.160.0, 188.234.160.1, 188.234.160.2, ...  ERTH-TOMSK-PPPOE-3-NET   \n",
       "1  (188.234.160.0, 188.234.160.1, 188.234.160.2, ...  ERTH-TOMSK-PPPOE-3-NET   \n",
       "2  (188.234.160.0, 188.234.160.1, 188.234.160.2, ...  ERTH-TOMSK-PPPOE-3-NET   \n",
       "3  (188.234.160.0, 188.234.160.1, 188.234.160.2, ...  ERTH-TOMSK-PPPOE-3-NET   \n",
       "4  (188.234.160.0, 188.234.160.1, 188.234.160.2, ...  ERTH-TOMSK-PPPOE-3-NET   \n",
       "\n",
       "  os_family os_version browser browser_version  mobile  \\\n",
       "0   Windows          7  Chrome       66.0.3359   False   \n",
       "1   Windows         10  Chrome       68.0.3440   False   \n",
       "2   Windows         10  Chrome       68.0.3440   False   \n",
       "3   Windows         10  Chrome       68.0.3440   False   \n",
       "4   Windows         10  Chrome       68.0.3440   False   \n",
       "\n",
       "                              device_id  \\\n",
       "0  0a10a4e8-4ad5-44ae-9560-5265837fe1f4   \n",
       "1  1a337b50-d8c7-49bd-8460-949f758f05ab   \n",
       "2  1a337b50-d8c7-49bd-8460-949f758f05ab   \n",
       "3  1a337b50-d8c7-49bd-8460-949f758f05ab   \n",
       "4  1a337b50-d8c7-49bd-8460-949f758f05ab   \n",
       "\n",
       "                                      login  \n",
       "0  d21e16e4f73eee03a4af84277fa2d2c7450842f6  \n",
       "1  53e47e39ace11a4326d448b9707cf354488479ee  \n",
       "2  429fbfbbf1149c5acc874e0d2d3d6192001ec337  \n",
       "3  273e6429a6f100c3cd628f9381ddd1fce46eb922  \n",
       "4  38709772baf01683ba70017ad40600f9ce399c56  "
      ]
     },
     "execution_count": 30,
     "metadata": {},
     "output_type": "execute_result"
    }
   ],
   "source": [
    "all_info.head()"
   ]
  },
  {
   "cell_type": "code",
   "execution_count": 31,
   "metadata": {},
   "outputs": [],
   "source": [
    "info_to_csv = all_info.reindex(['ip', 'network', 'network_name', 'country', 'city', 'lat', 'lon', 'browser', 'browser_version', 'os_family', 'os_version', 'mobile'], axis=1)"
   ]
  },
  {
   "cell_type": "code",
   "execution_count": 32,
   "metadata": {},
   "outputs": [],
   "source": [
    "info_to_csv.to_csv(\"ip_info.csv\", sep=';', encoding='utf-8')"
   ]
  },
  {
   "cell_type": "code",
   "execution_count": 33,
   "metadata": {},
   "outputs": [],
   "source": [
    "all_info.to_csv(\"all_info.csv\", sep=';', encoding='utf-8')"
   ]
  },
  {
   "cell_type": "markdown",
   "metadata": {},
   "source": [
    "# Device id"
   ]
  },
  {
   "cell_type": "code",
   "execution_count": 34,
   "metadata": {},
   "outputs": [],
   "source": [
    "def add_device(dev, dev_lst, col='device_id'):\n",
    "    set_id = set(pd.unique(dev[col]))\n",
    "    for i in range(len(dev_lst)):\n",
    "        if not dev_lst[i].isdisjoint(set_id):\n",
    "            dev_lst[i] = dev_lst[i] | set_id\n",
    "            return\n",
    "    dev_lst.append(set_id)"
   ]
  },
  {
   "cell_type": "code",
   "execution_count": 35,
   "metadata": {},
   "outputs": [],
   "source": [
    "def check_n_update_devices(dev_lst, uniq_dev_set):\n",
    "    all_set = set().union(*dev_lst)\n",
    "    diff = uniq_dev_set - all_set\n",
    "    if len(diff) != 0:\n",
    "        print(diff)"
   ]
  },
  {
   "cell_type": "code",
   "execution_count": 36,
   "metadata": {},
   "outputs": [],
   "source": [
    "def postproc_devices(dev_lst):\n",
    "    for i in range(len(dev_lst)-1, 0, -1):\n",
    "        for j in range(i):\n",
    "            if not dev_lst[i].isdisjoint(dev_lst[j]):\n",
    "                dev_lst[j].update(dev_lst[i])\n",
    "                dev_lst.remove(dev_lst[i])\n",
    "    return dev_lst"
   ]
  },
  {
   "cell_type": "code",
   "execution_count": 37,
   "metadata": {},
   "outputs": [],
   "source": [
    "def search_in_subnets(all_devices):\n",
    "    network_groups = all_devices.groupby('network').indices\n",
    "    devices = []\n",
    "    for network in network_groups.keys():\n",
    "        \n",
    "        ips_list = network_groups[network]\n",
    "        devices_in_network = all_devices.iloc[ips_list]\n",
    "        os_groups = devices_in_network.groupby(['os_family', 'os_version']).indices\n",
    "\n",
    "        for os in os_groups.keys():\n",
    "            ips_list = os_groups[os]\n",
    "            certain_os_devices = devices_in_network.iloc[ips_list]\n",
    "            browser_group = certain_os_devices.groupby('browser').indices\n",
    "            browser_list = list(browser_group.keys())\n",
    "\n",
    "            if len(browser_list) == 1:\n",
    "                one_device = certain_os_devices.iloc[browser_group[browser_list[0]]]\n",
    "                add_device(one_device, devices)\n",
    "            else: \n",
    "                certain_ip_group = certain_os_devices.groupby('ip').indices\n",
    "                certain_ip_list = list(certain_ip_group.keys())\n",
    "                if len(certain_ip_list) == 1:\n",
    "                    one_device = certain_os_devices.iloc[certain_ip_group[certain_ip_list[0]]]\n",
    "                    add_device(one_device, devices)\n",
    "                else:\n",
    "                    for certain_ip in list(certain_ip_group.keys()):\n",
    "                        set_cer_ip = set(certain_ip_group[certain_ip])\n",
    "                        for certain_browser in browser_list:\n",
    "                            set_cer_brow = set(browser_group[certain_browser])\n",
    "                            common_set = set_cer_brow & set_cer_ip\n",
    "                            if common_set != set():\n",
    "                                one_device = certain_os_devices.iloc[list(common_set)]\n",
    "                                add_device(one_device, devices)\n",
    "    return devices"
   ]
  },
  {
   "cell_type": "code",
   "execution_count": 38,
   "metadata": {},
   "outputs": [],
   "source": [
    "mobile_devices = all_info[all_info['mobile'] == True]\n",
    "not_mobile_devices = all_info[all_info['mobile'] == False]"
   ]
  },
  {
   "cell_type": "code",
   "execution_count": 39,
   "metadata": {},
   "outputs": [],
   "source": [
    "mobile_devices.to_csv(\"mobile_devices.csv\", sep=',', encoding='utf-8')"
   ]
  },
  {
   "cell_type": "code",
   "execution_count": 40,
   "metadata": {},
   "outputs": [],
   "source": [
    "not_mobile_devices.to_csv(\"not_mobile_devices.csv\", sep=',', encoding='utf-8')"
   ]
  },
  {
   "cell_type": "code",
   "execution_count": 41,
   "metadata": {},
   "outputs": [],
   "source": [
    "mobile_devices_ids = search_in_subnets(mobile_devices)"
   ]
  },
  {
   "cell_type": "code",
   "execution_count": 42,
   "metadata": {},
   "outputs": [],
   "source": [
    "not_mobile_devices_ids = search_in_subnets(not_mobile_devices)"
   ]
  },
  {
   "cell_type": "code",
   "execution_count": 43,
   "metadata": {},
   "outputs": [],
   "source": [
    "mobile_devices_ids = postproc_devices(mobile_devices_ids)\n",
    "not_mobile_devices_ids = postproc_devices(not_mobile_devices_ids)"
   ]
  },
  {
   "cell_type": "markdown",
   "metadata": {},
   "source": [
    "# Logins"
   ]
  },
  {
   "cell_type": "code",
   "execution_count": 44,
   "metadata": {},
   "outputs": [],
   "source": [
    "def search_logins(devices_ids, info):\n",
    "    all_devices_logins = []\n",
    "    for device in devices_ids:\n",
    "        logins = set()\n",
    "        for ids in device:\n",
    "            logins.update(set(info[info['device_id'] == ids]['login']))\n",
    "        all_devices_logins.append(logins)\n",
    "    return all_devices_logins"
   ]
  },
  {
   "cell_type": "code",
   "execution_count": 45,
   "metadata": {},
   "outputs": [],
   "source": [
    "not_mob_logins = search_logins(not_mobile_devices_ids, not_mobile_devices)"
   ]
  },
  {
   "cell_type": "code",
   "execution_count": 46,
   "metadata": {},
   "outputs": [],
   "source": [
    "mob_logins = search_logins(mobile_devices_ids, mobile_devices)"
   ]
  },
  {
   "cell_type": "code",
   "execution_count": 47,
   "metadata": {},
   "outputs": [
    {
     "data": {
      "text/plain": [
       "{'3a0cdc9cab8cdee8982ec5a3b5dbcb375205cede',\n",
       " 'ca4a85f660dcec25bfca6685e815f3d4056f5e90',\n",
       " 'd21e16e4f73eee03a4af84277fa2d2c7450842f6',\n",
       " 'e16edfc7ccd57ea881487fd1f138a2e8c61ab012',\n",
       " 'e34cede14d7469957986c632404885265d595d24',\n",
       " 'ed9b3e652da241191a4d2f52d6c89d84295a49d3',\n",
       " 'f4aa6fa730b8e81970c83f1cd2024d7104eddfab'}"
      ]
     },
     "execution_count": 47,
     "metadata": {},
     "output_type": "execute_result"
    }
   ],
   "source": [
    "set().union(*mob_logins) & set().union(*not_mob_logins)"
   ]
  },
  {
   "cell_type": "code",
   "execution_count": 48,
   "metadata": {},
   "outputs": [],
   "source": [
    "mob_devices_frame = pd.DataFrame({\n",
    "    'device_id': mobile_devices_ids,\n",
    "    'logins': mob_logins\n",
    "})\n",
    "\n",
    "not_mob_devices_frame = pd.DataFrame({\n",
    "    'device_id': not_mobile_devices_ids,\n",
    "    'logins': not_mob_logins\n",
    "})"
   ]
  },
  {
   "cell_type": "code",
   "execution_count": 49,
   "metadata": {},
   "outputs": [],
   "source": [
    "mob_devices_frame.to_csv(\"mobile_devices_ids.csv\", sep=',', encoding='utf-8')"
   ]
  },
  {
   "cell_type": "code",
   "execution_count": 50,
   "metadata": {},
   "outputs": [],
   "source": [
    "not_mob_devices_frame.to_csv(\"not_mobile_devices_ids.csv\", sep=',', encoding='utf-8')"
   ]
  },
  {
   "cell_type": "code",
   "execution_count": 51,
   "metadata": {},
   "outputs": [
    {
     "data": {
      "text/html": [
       "<div>\n",
       "<style scoped>\n",
       "    .dataframe tbody tr th:only-of-type {\n",
       "        vertical-align: middle;\n",
       "    }\n",
       "\n",
       "    .dataframe tbody tr th {\n",
       "        vertical-align: top;\n",
       "    }\n",
       "\n",
       "    .dataframe thead th {\n",
       "        text-align: right;\n",
       "    }\n",
       "</style>\n",
       "<table border=\"1\" class=\"dataframe\">\n",
       "  <thead>\n",
       "    <tr style=\"text-align: right;\">\n",
       "      <th></th>\n",
       "      <th>device_id</th>\n",
       "      <th>logins</th>\n",
       "    </tr>\n",
       "  </thead>\n",
       "  <tbody>\n",
       "    <tr>\n",
       "      <th>0</th>\n",
       "      <td>{95d49678-4360-4d5a-ac2b-3a9b893a0906}</td>\n",
       "      <td>{fc2bebfc6eea7e7d30579bfd5a9b8bbc6c056c61}</td>\n",
       "    </tr>\n",
       "    <tr>\n",
       "      <th>1</th>\n",
       "      <td>{de156afc-565e-47b0-a8a1-b9b754b2b981}</td>\n",
       "      <td>{e34cede14d7469957986c632404885265d595d24, 686...</td>\n",
       "    </tr>\n",
       "    <tr>\n",
       "      <th>2</th>\n",
       "      <td>{b1418ba2-bd30-44c4-ad9e-e4251de42457, 000e0ff...</td>\n",
       "      <td>{d84a2ca6707abfcd1cad5657e5c43ad525ed3a56}</td>\n",
       "    </tr>\n",
       "    <tr>\n",
       "      <th>3</th>\n",
       "      <td>{621ecc4a-5b45-42b7-9a16-d15baf67a78e}</td>\n",
       "      <td>{2d3471dcd49bb9964344200ad733b995aecac0aa}</td>\n",
       "    </tr>\n",
       "    <tr>\n",
       "      <th>4</th>\n",
       "      <td>{1813703f-2ad1-4051-910c-ce08b871522b}</td>\n",
       "      <td>{5071432df9016a009c99246a0c818d40615ef9e6}</td>\n",
       "    </tr>\n",
       "  </tbody>\n",
       "</table>\n",
       "</div>"
      ],
      "text/plain": [
       "                                           device_id  \\\n",
       "0             {95d49678-4360-4d5a-ac2b-3a9b893a0906}   \n",
       "1             {de156afc-565e-47b0-a8a1-b9b754b2b981}   \n",
       "2  {b1418ba2-bd30-44c4-ad9e-e4251de42457, 000e0ff...   \n",
       "3             {621ecc4a-5b45-42b7-9a16-d15baf67a78e}   \n",
       "4             {1813703f-2ad1-4051-910c-ce08b871522b}   \n",
       "\n",
       "                                              logins  \n",
       "0         {fc2bebfc6eea7e7d30579bfd5a9b8bbc6c056c61}  \n",
       "1  {e34cede14d7469957986c632404885265d595d24, 686...  \n",
       "2         {d84a2ca6707abfcd1cad5657e5c43ad525ed3a56}  \n",
       "3         {2d3471dcd49bb9964344200ad733b995aecac0aa}  \n",
       "4         {5071432df9016a009c99246a0c818d40615ef9e6}  "
      ]
     },
     "execution_count": 51,
     "metadata": {},
     "output_type": "execute_result"
    }
   ],
   "source": [
    "mob_devices_frame.head()"
   ]
  },
  {
   "cell_type": "markdown",
   "metadata": {},
   "source": [
    "# Graph"
   ]
  },
  {
   "cell_type": "code",
   "execution_count": 52,
   "metadata": {},
   "outputs": [],
   "source": [
    "index_device = pd.Series(list(set().union(*mobile_devices_ids, *not_mobile_devices_ids)))"
   ]
  },
  {
   "cell_type": "code",
   "execution_count": 53,
   "metadata": {},
   "outputs": [],
   "source": [
    "index_login = pd.Series(list(set().union(*mob_logins, *not_mob_logins)))"
   ]
  },
  {
   "cell_type": "code",
   "execution_count": 54,
   "metadata": {},
   "outputs": [],
   "source": [
    "file = open('graph.dot', 'w')"
   ]
  },
  {
   "cell_type": "code",
   "execution_count": 55,
   "metadata": {},
   "outputs": [
    {
     "data": {
      "text/plain": [
       "12"
      ]
     },
     "execution_count": 55,
     "metadata": {},
     "output_type": "execute_result"
    }
   ],
   "source": [
    "file.write(\"graph ip { \\n\")"
   ]
  },
  {
   "cell_type": "code",
   "execution_count": 56,
   "metadata": {},
   "outputs": [],
   "source": [
    "for d in range(len(mob_devices_frame['device_id'])):\n",
    "    device_list = list(mob_devices_frame.iloc[d]['device_id'])\n",
    "    if len(device_list) == 1:\n",
    "        n = str(index_device[index_device == device_list[0]].index[0])\n",
    "        file.write(\"\\t d\"+ n + \" [color=#C01D23]; \\n\") \n",
    "        for login in list(mob_devices_frame.iloc[d]['logins']):\n",
    "            file.write(\"\\t l\" + str(index_login[index_login == login].index[0]) + \" -- d\" + n + \"; \\n\")\n",
    "    else:\n",
    "        for i in range(len(device_list)-1):\n",
    "            n = str(index_device[index_device == device_list[i]].index[0])\n",
    "            m = str(index_device[index_device == device_list[i + 1]].index[0])\n",
    "            file.write(\"\\t d\"+ n + \" [color=#C01D23]; \\n\")\n",
    "            file.write(\"\\t d\"+ n + \"-- d\" + m + \" [color=#C01D23]; \\n\")\n",
    "            for login in list(mob_devices_frame.iloc[d]['logins']):\n",
    "                file.write(\"\\t l\" + str(index_login[index_login == login].index[0]) + \" -- d\" + n + \"[color=black]; \\n\")\n",
    "        n = str(index_device[index_device == device_list[-1]].index[0])\n",
    "        file.write(\"\\t d\"+ n + \" [color=#C01D23]; \\n\")"
   ]
  },
  {
   "cell_type": "code",
   "execution_count": 57,
   "metadata": {},
   "outputs": [],
   "source": [
    "for d in range(len(mob_devices_frame['logins'])):\n",
    "    logins_list = list(mob_devices_frame.iloc[d]['logins'])\n",
    "    if len(logins_list) == 1:\n",
    "        n = str(index_login[index_login == logins_list[0]].index[0])\n",
    "        file.write(\"\\t l\"+ n + \" [color=#79A0C1]; \\n\") \n",
    "    else:\n",
    "        for i in range(len(logins_list)-1):\n",
    "            n = str(index_login[index_login == logins_list[i]].index[0])\n",
    "            m = str(index_login[index_login == logins_list[i + 1]].index[0])\n",
    "            file.write(\"\\t l\"+ n + \" [color=#79A0C1]; \\n\")\n",
    "            file.write(\"\\t l\"+ n + \"-- l\" + m + \" [color=#79A0C1]; \\n\")\n",
    "        n = str(index_login[index_login == logins_list[-1]].index[0])\n",
    "        file.write(\"\\t l\"+ n + \" [color=#79A0C1]; \\n\")"
   ]
  },
  {
   "cell_type": "code",
   "execution_count": 58,
   "metadata": {},
   "outputs": [],
   "source": [
    "for d in range(len(not_mob_devices_frame['device_id'])):\n",
    "    device_list = list(not_mob_devices_frame.iloc[d]['device_id'])\n",
    "    if len(device_list) == 1:\n",
    "        n = str(index_device[index_device == device_list[0]].index[0])\n",
    "        file.write(\"\\t d\"+ n + \" [color=#2E755C]; \\n\") \n",
    "        for login in list(not_mob_devices_frame.iloc[d]['logins']):\n",
    "            file.write(\"\\t l\" + str(index_login[index_login == login].index[0]) + \" -- d\" + n + \"; \\n\")\n",
    "    else:\n",
    "        for i in range(len(device_list)-1):\n",
    "            n = str(index_device[index_device == device_list[i]].index[0])\n",
    "            m = str(index_device[index_device == device_list[i + 1]].index[0])\n",
    "            file.write(\"\\t d\"+ n + \" [color=#2E755C]; \\n\")\n",
    "            file.write(\"\\t d\"+ n + \"-- d\" + m + \" [color=#2E755C]; \\n\")\n",
    "            for login in list(not_mob_devices_frame.iloc[d]['logins']):\n",
    "                file.write(\"\\t l\" + str(index_login[index_login == login].index[0]) + \" -- d\" + n + \"[color=black]; \\n\")\n",
    "        n = str(index_device[index_device == device_list[-1]].index[0])\n",
    "        file.write(\"\\t d\"+ n + \" [color=#2E755C]; \\n\")"
   ]
  },
  {
   "cell_type": "code",
   "execution_count": 59,
   "metadata": {},
   "outputs": [],
   "source": [
    "for d in range(len(not_mob_devices_frame['logins'])):\n",
    "    logins_list = list(not_mob_devices_frame.iloc[d]['logins'])\n",
    "    if len(logins_list) == 1:\n",
    "        n = str(index_login[index_login == logins_list[0]].index[0])\n",
    "        file.write(\"\\t l\"+ n + \" [color=#675447]; \\n\") \n",
    "    else:\n",
    "        for i in range(len(logins_list)-1):\n",
    "            n = str(index_login[index_login == logins_list[i]].index[0])\n",
    "            m = str(index_login[index_login == logins_list[i + 1]].index[0])\n",
    "            file.write(\"\\t l\"+ n + \" [color=#675447]; \\n\")\n",
    "            file.write(\"\\t l\"+ n + \"-- l\" + m + \" [color=#675447]; \\n\")\n",
    "        n = str(index_login[index_login == logins_list[-1]].index[0])\n",
    "        file.write(\"\\t l\"+ n + \" [color=#675447]; \\n\")"
   ]
  },
  {
   "cell_type": "code",
   "execution_count": 60,
   "metadata": {},
   "outputs": [
    {
     "data": {
      "text/plain": [
       "1"
      ]
     },
     "execution_count": 60,
     "metadata": {},
     "output_type": "execute_result"
    }
   ],
   "source": [
    "file.write(\"}\")"
   ]
  },
  {
   "cell_type": "code",
   "execution_count": 61,
   "metadata": {},
   "outputs": [],
   "source": [
    "file.close()"
   ]
  }
 ],
 "metadata": {
  "kernelspec": {
   "display_name": "Python 3",
   "language": "python",
   "name": "python3"
  },
  "language_info": {
   "codemirror_mode": {
    "name": "ipython",
    "version": 3
   },
   "file_extension": ".py",
   "mimetype": "text/x-python",
   "name": "python",
   "nbconvert_exporter": "python",
   "pygments_lexer": "ipython3",
   "version": "3.7.4"
  }
 },
 "nbformat": 4,
 "nbformat_minor": 4
}
